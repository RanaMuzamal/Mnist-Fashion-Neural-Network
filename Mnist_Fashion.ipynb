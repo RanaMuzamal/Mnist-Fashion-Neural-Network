{
  "nbformat": 4,
  "nbformat_minor": 0,
  "metadata": {
    "colab": {
      "name": "Mnist Fashion.ipynb ",
      "provenance": [],
      "collapsed_sections": []
    },
    "kernelspec": {
      "display_name": "Python 3",
      "name": "python3"
    }
  },
  "cells": [
    {
      "cell_type": "markdown",
      "metadata": {
        "id": "Yj_yxFqqZADx"
      },
      "source": [
        "## Neural Network trained on Mnist Fashion Dataset"
      ]
    },
    {
      "cell_type": "code",
      "metadata": {
        "id": "h7X4L7yvLR5i"
      },
      "source": [
        "from tensorflow.keras.datasets import fashion_mnist"
      ],
      "execution_count": 1,
      "outputs": []
    },
    {
      "cell_type": "code",
      "metadata": {
        "id": "Z-xorhVWLiEp",
        "colab": {
          "base_uri": "https://localhost:8080/"
        },
        "outputId": "4324d653-36d7-410a-fc83-d4ca1d66c5a1"
      },
      "source": [
        "(train_images,train_labels),(test_images,test_labels)=fashion_mnist.load_data()"
      ],
      "execution_count": 2,
      "outputs": [
        {
          "output_type": "stream",
          "text": [
            "Downloading data from https://storage.googleapis.com/tensorflow/tf-keras-datasets/train-labels-idx1-ubyte.gz\n",
            "32768/29515 [=================================] - 0s 0us/step\n",
            "Downloading data from https://storage.googleapis.com/tensorflow/tf-keras-datasets/train-images-idx3-ubyte.gz\n",
            "26427392/26421880 [==============================] - 1s 0us/step\n",
            "Downloading data from https://storage.googleapis.com/tensorflow/tf-keras-datasets/t10k-labels-idx1-ubyte.gz\n",
            "8192/5148 [===============================================] - 0s 0us/step\n",
            "Downloading data from https://storage.googleapis.com/tensorflow/tf-keras-datasets/t10k-images-idx3-ubyte.gz\n",
            "4423680/4422102 [==============================] - 0s 0us/step\n"
          ],
          "name": "stdout"
        }
      ]
    },
    {
      "cell_type": "code",
      "metadata": {
        "colab": {
          "base_uri": "https://localhost:8080/"
        },
        "id": "-G2giQF-MGo6",
        "outputId": "93e0da33-90ba-4faa-aac3-e85bb62cfa7d"
      },
      "source": [
        "print(len(train_images))"
      ],
      "execution_count": 3,
      "outputs": [
        {
          "output_type": "stream",
          "text": [
            "60000\n"
          ],
          "name": "stdout"
        }
      ]
    },
    {
      "cell_type": "code",
      "metadata": {
        "colab": {
          "base_uri": "https://localhost:8080/"
        },
        "id": "IB5DejyzMNfw",
        "outputId": "2b0ecfbe-6bc9-4a51-be93-e26e62952473"
      },
      "source": [
        "print(len(test_images))"
      ],
      "execution_count": 4,
      "outputs": [
        {
          "output_type": "stream",
          "text": [
            "10000\n"
          ],
          "name": "stdout"
        }
      ]
    },
    {
      "cell_type": "code",
      "metadata": {
        "colab": {
          "base_uri": "https://localhost:8080/"
        },
        "id": "4ZcWSj1KMRQk",
        "outputId": "12c7f9f4-cdf3-4e78-916b-1e2b44c22aa0"
      },
      "source": [
        "train_labels"
      ],
      "execution_count": 5,
      "outputs": [
        {
          "output_type": "execute_result",
          "data": {
            "text/plain": [
              "array([9, 0, 0, ..., 3, 0, 5], dtype=uint8)"
            ]
          },
          "metadata": {
            "tags": []
          },
          "execution_count": 5
        }
      ]
    },
    {
      "cell_type": "code",
      "metadata": {
        "id": "Rubk3r5lNTeY",
        "colab": {
          "base_uri": "https://localhost:8080/",
          "height": 282
        },
        "outputId": "dd09e0a3-3575-45af-a538-13fbbb78af98"
      },
      "source": [
        "import matplotlib.pyplot as plt\r\n",
        "digit=train_images[7]\r\n",
        "print(\"Class Label : \",train_labels[7])\r\n",
        "plt.imshow(digit,cmap=plt.cm.binary)\r\n",
        "plt.show()"
      ],
      "execution_count": 6,
      "outputs": [
        {
          "output_type": "stream",
          "text": [
            "Class Label :  2\n"
          ],
          "name": "stdout"
        },
        {
          "output_type": "display_data",
          "data": {
            "image/png": "[encoded data removed]",
            "text/plain": [
              "<Figure size 432x288 with 1 Axes>"
            ]
          },
          "metadata": {
            "tags": [],
            "needs_background": "light"
          }
        }
      ]
    },
    {
      "cell_type": "code",
      "metadata": {
        "colab": {
          "base_uri": "https://localhost:8080/",
          "height": 282
        },
        "id": "61BJoyzYPB7Q",
        "outputId": "3cd81aa6-c5c9-4c63-bd99-1b75d2c5b8b0"
      },
      "source": [
        "digit1=test_images[0]\r\n",
        "print(\"Class Label : \",test_labels[0])\r\n",
        "plt.imshow(digit1,cmap=plt.cm.binary)\r\n",
        "plt.show()"
      ],
      "execution_count": 7,
      "outputs": [
        {
          "output_type": "stream",
          "text": [
            "Class Label :  9\n"
          ],
          "name": "stdout"
        },
        {
          "output_type": "display_data",
          "data": {
            "image/png": "[encoded data removed]",
            "text/plain": [
              "<Figure size 432x288 with 1 Axes>"
            ]
          },
          "metadata": {
            "tags": [],
            "needs_background": "light"
          }
        }
      ]
    },
    {
      "cell_type": "code",
      "metadata": {
        "colab": {
          "base_uri": "https://localhost:8080/"
        },
        "id": "YxefuYaIPuz4",
        "outputId": "8b2f501f-e9ca-41ee-9a2c-f8309cb9dc81"
      },
      "source": [
        "import numpy as np\r\n",
        "print(train_labels)\r\n",
        "print(np.unique(train_labels))"
      ],
      "execution_count": 8,
      "outputs": [
        {
          "output_type": "stream",
          "text": [
            "[9 0 0 ... 3 0 5]\n",
            "[0 1 2 3 4 5 6 7 8 9]\n"
          ],
          "name": "stdout"
        }
      ]
    },
    {
      "cell_type": "code",
      "metadata": {
        "colab": {
          "base_uri": "https://localhost:8080/"
        },
        "id": "_q2o732BQr_d",
        "outputId": "a3449fb7-fed3-4b86-9ab6-1e97d26109da"
      },
      "source": [
        "print(test_labels)\r\n",
        "print(np.unique(test_labels))"
      ],
      "execution_count": 9,
      "outputs": [
        {
          "output_type": "stream",
          "text": [
            "[9 2 1 ... 8 1 5]\n",
            "[0 1 2 3 4 5 6 7 8 9]\n"
          ],
          "name": "stdout"
        }
      ]
    },
    {
      "cell_type": "code",
      "metadata": {
        "id": "9pOiusxWQzLx"
      },
      "source": [
        ""
      ],
      "execution_count": 9,
      "outputs": []
    },
    {
      "cell_type": "markdown",
      "metadata": {
        "id": "eEY2Jmu4Q7hV"
      },
      "source": [
        "# Network Architecture"
      ]
    },
    {
      "cell_type": "code",
      "metadata": {
        "id": "JLYgUs7xQ_zR"
      },
      "source": [
        "from tensorflow.keras import layers\r\n",
        "from tensorflow.keras import models\r\n",
        "network=models.Sequential()\r\n",
        "\r\n",
        "\r\n",
        "network.add(layers.Dense(512,activation='relu',input_shape=(28*28,)))\r\n",
        "network.add(layers.Dense(10,activation='softmax'))"
      ],
      "execution_count": 10,
      "outputs": []
    },
    {
      "cell_type": "code",
      "metadata": {
        "id": "nSsZktVqRyWb"
      },
      "source": [
        ""
      ],
      "execution_count": 10,
      "outputs": []
    },
    {
      "cell_type": "markdown",
      "metadata": {
        "id": "PbMhmNFpSGvy"
      },
      "source": [
        "# Compilation Steps"
      ]
    },
    {
      "cell_type": "code",
      "metadata": {
        "id": "KKb5jgM_SKDU"
      },
      "source": [
        "network.compile(optimizer='rmsprop',\r\n",
        "                loss='categorical_crossentropy',\r\n",
        "                metrics=['accuracy'])"
      ],
      "execution_count": 11,
      "outputs": []
    },
    {
      "cell_type": "markdown",
      "metadata": {
        "id": "KYtaEaI2Yonj"
      },
      "source": [
        ""
      ]
    },
    {
      "cell_type": "code",
      "metadata": {
        "colab": {
          "base_uri": "https://localhost:8080/"
        },
        "id": "YdgnRLuxSjta",
        "outputId": "4944309f-b2e6-4ba4-b19e-19264917322a"
      },
      "source": [
        "train_images.ndim"
      ],
      "execution_count": 12,
      "outputs": [
        {
          "output_type": "execute_result",
          "data": {
            "text/plain": [
              "3"
            ]
          },
          "metadata": {
            "tags": []
          },
          "execution_count": 12
        }
      ]
    },
    {
      "cell_type": "markdown",
      "metadata": {
        "id": "Buvalg-6S24s"
      },
      "source": [
        "# Preparing Image Data and Normalization\r\n",
        "\r\n"
      ]
    },
    {
      "cell_type": "code",
      "metadata": {
        "id": "iLiOMyKsS1-h"
      },
      "source": [
        "train_images=train_images.reshape(60000,28*28)\r\n",
        "train_images=train_images.astype('float32')/255\r\n",
        "\r\n",
        "test_images=test_images.reshape(10000,28*28)\r\n",
        "test_images=test_images.astype('float32')/255"
      ],
      "execution_count": 13,
      "outputs": []
    },
    {
      "cell_type": "code",
      "metadata": {
        "colab": {
          "base_uri": "https://localhost:8080/"
        },
        "id": "haB-9KwQSpQW",
        "outputId": "93c97ed0-822e-4d4b-9cd4-86ef9622f4c1"
      },
      "source": [
        "train_labels[9]"
      ],
      "execution_count": 14,
      "outputs": [
        {
          "output_type": "execute_result",
          "data": {
            "text/plain": [
              "5"
            ]
          },
          "metadata": {
            "tags": []
          },
          "execution_count": 14
        }
      ]
    },
    {
      "cell_type": "markdown",
      "metadata": {
        "id": "bS5wA8bwYKK_"
      },
      "source": [
        "# One Hot Coding"
      ]
    },
    {
      "cell_type": "code",
      "metadata": {
        "id": "y9chtSv2VJiF"
      },
      "source": [
        "from tensorflow.keras.utils import to_categorical\r\n",
        "\r\n",
        "train_labels = to_categorical(train_labels)\r\n",
        "test_labels = to_categorical(test_labels)"
      ],
      "execution_count": 15,
      "outputs": []
    },
    {
      "cell_type": "code",
      "metadata": {
        "colab": {
          "base_uri": "https://localhost:8080/"
        },
        "id": "n33EgLjFVQIm",
        "outputId": "857baccf-ea20-4496-c3e1-dad44e232294"
      },
      "source": [
        "train_labels[0]\r\n"
      ],
      "execution_count": 16,
      "outputs": [
        {
          "output_type": "execute_result",
          "data": {
            "text/plain": [
              "array([0., 0., 0., 0., 0., 0., 0., 0., 0., 1.], dtype=float32)"
            ]
          },
          "metadata": {
            "tags": []
          },
          "execution_count": 16
        }
      ]
    },
    {
      "cell_type": "markdown",
      "metadata": {
        "id": "3eU7DXi7YFZp"
      },
      "source": [
        "# Train Your Model"
      ]
    },
    {
      "cell_type": "code",
      "metadata": {
        "colab": {
          "base_uri": "https://localhost:8080/"
        },
        "id": "bZa2CoinSs-U",
        "outputId": "4d8903a7-f116-4503-a3cd-c3cb3553a80b"
      },
      "source": [
        "network.fit(train_images , train_labels , epochs=5 , batch_size=128)"
      ],
      "execution_count": 18,
      "outputs": [
        {
          "output_type": "stream",
          "text": [
            "Epoch 1/5\n",
            "469/469 [==============================] - 4s 7ms/step - loss: 0.7503 - accuracy: 0.7427\n",
            "Epoch 2/5\n",
            "469/469 [==============================] - 4s 7ms/step - loss: 0.3921 - accuracy: 0.8570\n",
            "Epoch 3/5\n",
            "469/469 [==============================] - 3s 7ms/step - loss: 0.3446 - accuracy: 0.8732\n",
            "Epoch 4/5\n",
            "469/469 [==============================] - 3s 7ms/step - loss: 0.3179 - accuracy: 0.8818\n",
            "Epoch 5/5\n",
            "469/469 [==============================] - 4s 7ms/step - loss: 0.2926 - accuracy: 0.8929\n"
          ],
          "name": "stdout"
        },
        {
          "output_type": "execute_result",
          "data": {
            "text/plain": [
              "<tensorflow.python.keras.callbacks.History at 0x7f1fff4b1a10>"
            ]
          },
          "metadata": {
            "tags": []
          },
          "execution_count": 18
        }
      ]
    },
    {
      "cell_type": "code",
      "metadata": {
        "id": "QRHk_Tw5UO8t",
        "colab": {
          "base_uri": "https://localhost:8080/"
        },
        "outputId": "ce06f8b9-e9d2-4929-db19-a38b1be19ff7"
      },
      "source": [
        "test_loss,test_acc=network.evaluate(test_images,test_labels)\r\n",
        "print('Test Acc:', test_acc)"
      ],
      "execution_count": 21,
      "outputs": [
        {
          "output_type": "stream",
          "text": [
            "313/313 [==============================] - 1s 2ms/step - loss: 0.3704 - accuracy: 0.8730\n",
            "Test Acc: 0.8730000257492065\n"
          ],
          "name": "stdout"
        }
      ]
    },
    {
      "cell_type": "code",
      "metadata": {
        "id": "yArmP9B3X4rz"
      },
      "source": [
        ""
      ],
      "execution_count": null,
      "outputs": []
    }
  ]
}